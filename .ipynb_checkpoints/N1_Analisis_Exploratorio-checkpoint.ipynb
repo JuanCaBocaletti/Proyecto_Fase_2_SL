{
 "cells": [
  {
   "cell_type": "markdown",
   "id": "1e75b8ed-1724-4e17-a369-7ff7fd81d064",
   "metadata": {},
   "source": [
    "# 1. Análisis Exploratorio de Datos (EDA)\n",
    "Cargar el dataset y realizar un análisis exploratorio básico para entender su estructura y características."
   ]
  },
  {
   "cell_type": "code",
   "execution_count": 78,
   "id": "96bf0286-38db-4faf-a2a6-ce42bca9eb79",
   "metadata": {},
   "outputs": [],
   "source": [
    "import pandas as pd\n",
    "import numpy as np\n",
    "import seaborn as sns\n",
    "import matplotlib.pyplot as plt\n",
    "\n",
    "# Cargar el dataset\n",
    "df = pd.read_csv('Telco-Customer-Churn.csv')"
   ]
  },
  {
   "cell_type": "markdown",
   "id": "c2d5710e-fa6c-484a-a8ac-58a0c0f68857",
   "metadata": {},
   "source": [
    "# 2. Resumen del dataset:"
   ]
  },
  {
   "cell_type": "code",
   "execution_count": 80,
   "id": "f7c64b44-21f5-458c-945b-abb09ebf6eff",
   "metadata": {},
   "outputs": [
    {
     "data": {
      "text/plain": [
       "(7043, 21)"
      ]
     },
     "execution_count": 80,
     "metadata": {},
     "output_type": "execute_result"
    }
   ],
   "source": [
    "# Cantidad de Líneas y Columnas en el Dataset\n",
    "df.shape"
   ]
  },
  {
   "cell_type": "code",
   "execution_count": 33,
   "id": "1280f7fc-a5dd-4fe2-9c15-4f63a8785e47",
   "metadata": {},
   "outputs": [
    {
     "name": "stdout",
     "output_type": "stream",
     "text": [
      "   customerID  gender  SeniorCitizen Partner Dependents  tenure PhoneService  \\\n",
      "0  7590-VHVEG  Female              0     Yes         No       1           No   \n",
      "1  5575-GNVDE    Male              0      No         No      34          Yes   \n",
      "2  3668-QPYBK    Male              0      No         No       2          Yes   \n",
      "3  7795-CFOCW    Male              0      No         No      45           No   \n",
      "4  9237-HQITU  Female              0      No         No       2          Yes   \n",
      "\n",
      "      MultipleLines InternetService OnlineSecurity  ... DeviceProtection  \\\n",
      "0  No phone service             DSL             No  ...               No   \n",
      "1                No             DSL            Yes  ...              Yes   \n",
      "2                No             DSL            Yes  ...               No   \n",
      "3  No phone service             DSL            Yes  ...              Yes   \n",
      "4                No     Fiber optic             No  ...               No   \n",
      "\n",
      "  TechSupport StreamingTV StreamingMovies        Contract PaperlessBilling  \\\n",
      "0          No          No              No  Month-to-month              Yes   \n",
      "1          No          No              No        One year               No   \n",
      "2          No          No              No  Month-to-month              Yes   \n",
      "3         Yes          No              No        One year               No   \n",
      "4          No          No              No  Month-to-month              Yes   \n",
      "\n",
      "               PaymentMethod MonthlyCharges  TotalCharges Churn  \n",
      "0           Electronic check          29.85         29.85    No  \n",
      "1               Mailed check          56.95        1889.5    No  \n",
      "2               Mailed check          53.85        108.15   Yes  \n",
      "3  Bank transfer (automatic)          42.30       1840.75    No  \n",
      "4           Electronic check          70.70        151.65   Yes  \n",
      "\n",
      "[5 rows x 21 columns]\n"
     ]
    }
   ],
   "source": [
    "# Ver las primeras filas del dataset\n",
    "print(df.head())"
   ]
  },
  {
   "cell_type": "code",
   "execution_count": 100,
   "id": "6a560700-7f05-44e6-a32e-57e7b5057cc4",
   "metadata": {},
   "outputs": [
    {
     "name": "stdout",
     "output_type": "stream",
     "text": [
      "       SeniorCitizen       tenure  MonthlyCharges  TotalCharges\n",
      "count    7043.000000  7043.000000     7043.000000   7032.000000\n",
      "mean        0.162147    32.371149       64.761692   2283.300441\n",
      "std         0.368612    24.559481       30.090047   2266.771362\n",
      "min         0.000000     0.000000       18.250000     18.800000\n",
      "25%         0.000000     9.000000       35.500000    401.450000\n",
      "50%         0.000000    29.000000       70.350000   1397.475000\n",
      "75%         0.000000    55.000000       89.850000   3794.737500\n",
      "max         1.000000    72.000000      118.750000   8684.800000\n"
     ]
    }
   ],
   "source": [
    "# Resumen estadístico de las variables numéricas\n",
    "print(df.describe())"
   ]
  },
  {
   "cell_type": "code",
   "execution_count": 102,
   "id": "8d4d062a-f836-472a-bbf1-94a3e6b0395e",
   "metadata": {},
   "outputs": [
    {
     "name": "stdout",
     "output_type": "stream",
     "text": [
      "        customerID gender Partner Dependents PhoneService MultipleLines  \\\n",
      "count         7043   7043    7043       7043         7043          7043   \n",
      "unique        7043      2       2          2            2             3   \n",
      "top     7590-VHVEG   Male      No         No          Yes            No   \n",
      "freq             1   3555    3641       4933         6361          3390   \n",
      "\n",
      "       InternetService OnlineSecurity OnlineBackup DeviceProtection  \\\n",
      "count             7043           7043         7043             7043   \n",
      "unique               3              3            3                3   \n",
      "top        Fiber optic             No           No               No   \n",
      "freq              3096           3498         3088             3095   \n",
      "\n",
      "       TechSupport StreamingTV StreamingMovies        Contract  \\\n",
      "count         7043        7043            7043            7043   \n",
      "unique           3           3               3               3   \n",
      "top             No          No              No  Month-to-month   \n",
      "freq          3473        2810            2785            3875   \n",
      "\n",
      "       PaperlessBilling     PaymentMethod Churn  \n",
      "count              7043              7043  7043  \n",
      "unique                2                 4     2  \n",
      "top                 Yes  Electronic check    No  \n",
      "freq               4171              2365  5174  \n"
     ]
    }
   ],
   "source": [
    "# Resumen de las variables categóricas\n",
    "print(df.describe(include=['O']))"
   ]
  },
  {
   "cell_type": "code",
   "execution_count": 87,
   "id": "d2be7b62-74da-4b41-a9c6-23fcf283e85e",
   "metadata": {},
   "outputs": [
    {
     "data": {
      "text/plain": [
       "['TotalCharges']"
      ]
     },
     "execution_count": 87,
     "metadata": {},
     "output_type": "execute_result"
    }
   ],
   "source": [
    "columnas_con_na = []\n",
    "\n",
    "for col in df.columns:\n",
    "       porcentaje_na = df[col].isnull().mean()\n",
    "       if(porcentaje_na > 0):\n",
    "              columnas_con_na.append(col)\n",
    "columnas_con_na"
   ]
  },
  {
   "cell_type": "code",
   "execution_count": 90,
   "id": "cb41d0c3-ff90-42d2-a23c-acce30f21786",
   "metadata": {},
   "outputs": [
    {
     "data": {
      "text/plain": [
       "['TotalCharges']"
      ]
     },
     "execution_count": 90,
     "metadata": {},
     "output_type": "execute_result"
    }
   ],
   "source": [
    "# porcentaje de NA's con comprehention\n",
    "columnas_con_na = [col for col in df.columns if df[col].isnull().mean() > 0]\n",
    "columnas_con_na"
   ]
  },
  {
   "cell_type": "code",
   "execution_count": 93,
   "id": "2c635ffb-c240-4c23-bc6b-1eff3a26bb45",
   "metadata": {},
   "outputs": [
    {
     "data": {
      "text/plain": [
       "TotalCharges    float64\n",
       "dtype: object"
      ]
     },
     "execution_count": 93,
     "metadata": {},
     "output_type": "execute_result"
    }
   ],
   "source": [
    "df[columnas_con_na].dtypes"
   ]
  },
  {
   "cell_type": "code",
   "execution_count": 96,
   "id": "281c5793-131a-4887-bb3e-e094f94500ab",
   "metadata": {},
   "outputs": [
    {
     "data": {
      "text/plain": [
       "TotalCharges    0.001562\n",
       "dtype: float64"
      ]
     },
     "execution_count": 96,
     "metadata": {},
     "output_type": "execute_result"
    }
   ],
   "source": [
    "df[columnas_con_na].isnull().mean()"
   ]
  },
  {
   "cell_type": "code",
   "execution_count": 82,
   "id": "3b42749c-569a-41da-9396-79e9c3b4f4b5",
   "metadata": {},
   "outputs": [
    {
     "data": {
      "text/plain": [
       "TotalCharges\n",
       "False    7032\n",
       "True       11\n",
       "Name: count, dtype: int64"
      ]
     },
     "execution_count": 82,
     "metadata": {},
     "output_type": "execute_result"
    }
   ],
   "source": [
    "# Conteo de en la columna TotalCharges\n",
    "faltantes_TC = df['TotalCharges'].isnull()\n",
    "faltantes_TC.value_counts()"
   ]
  },
  {
   "cell_type": "code",
   "execution_count": 84,
   "id": "9dda82a2-cdbd-44c6-bab4-d9caf052ca82",
   "metadata": {},
   "outputs": [
    {
     "data": {
      "text/plain": [
       "0.001561834445548772"
      ]
     },
     "execution_count": 84,
     "metadata": {},
     "output_type": "execute_result"
    }
   ],
   "source": [
    "# Porcentaje de faltantes de columna TotalCharges\n",
    "df['TotalCharges'].isnull().mean()"
   ]
  },
  {
   "cell_type": "code",
   "execution_count": 39,
   "id": "cf4ad79f-2bcc-48f7-8564-0b48ce01f5b5",
   "metadata": {},
   "outputs": [
    {
     "name": "stdout",
     "output_type": "stream",
     "text": [
      "<class 'pandas.core.frame.DataFrame'>\n",
      "RangeIndex: 7043 entries, 0 to 7042\n",
      "Data columns (total 21 columns):\n",
      " #   Column            Non-Null Count  Dtype  \n",
      "---  ------            --------------  -----  \n",
      " 0   customerID        7043 non-null   object \n",
      " 1   gender            7043 non-null   object \n",
      " 2   SeniorCitizen     7043 non-null   int64  \n",
      " 3   Partner           7043 non-null   object \n",
      " 4   Dependents        7043 non-null   object \n",
      " 5   tenure            7043 non-null   int64  \n",
      " 6   PhoneService      7043 non-null   object \n",
      " 7   MultipleLines     7043 non-null   object \n",
      " 8   InternetService   7043 non-null   object \n",
      " 9   OnlineSecurity    7043 non-null   object \n",
      " 10  OnlineBackup      7043 non-null   object \n",
      " 11  DeviceProtection  7043 non-null   object \n",
      " 12  TechSupport       7043 non-null   object \n",
      " 13  StreamingTV       7043 non-null   object \n",
      " 14  StreamingMovies   7043 non-null   object \n",
      " 15  Contract          7043 non-null   object \n",
      " 16  PaperlessBilling  7043 non-null   object \n",
      " 17  PaymentMethod     7043 non-null   object \n",
      " 18  MonthlyCharges    7043 non-null   float64\n",
      " 19  TotalCharges      7043 non-null   object \n",
      " 20  Churn             7043 non-null   object \n",
      "dtypes: float64(1), int64(2), object(18)\n",
      "memory usage: 1.1+ MB\n",
      "None\n"
     ]
    }
   ],
   "source": [
    "# Información general del dataset\n",
    "print(df.info())"
   ]
  },
  {
   "cell_type": "markdown",
   "id": "878f4657-cf1c-4845-a7f3-abc32d2afdc0",
   "metadata": {},
   "source": [
    "### Como se distribuye inicialmente la data de la variable a predecir:"
   ]
  },
  {
   "cell_type": "code",
   "execution_count": 106,
   "id": "4f18137f-2a62-4740-878e-49e7de55cf8f",
   "metadata": {},
   "outputs": [
    {
     "data": {
      "text/plain": [
       "['customerID',\n",
       " 'gender',\n",
       " 'SeniorCitizen',\n",
       " 'Partner',\n",
       " 'Dependents',\n",
       " 'tenure',\n",
       " 'PhoneService',\n",
       " 'MultipleLines',\n",
       " 'InternetService',\n",
       " 'OnlineSecurity',\n",
       " 'OnlineBackup',\n",
       " 'DeviceProtection',\n",
       " 'TechSupport',\n",
       " 'StreamingTV',\n",
       " 'StreamingMovies',\n",
       " 'Contract',\n",
       " 'PaperlessBilling',\n",
       " 'PaymentMethod',\n",
       " 'MonthlyCharges',\n",
       " 'TotalCharges',\n",
       " 'Churn']"
      ]
     },
     "execution_count": 106,
     "metadata": {},
     "output_type": "execute_result"
    }
   ],
   "source": [
    "columnas_for_cca = [col for col in df.columns if df[col].isnull().mean() < 0.06]\n",
    "columnas_for_cca"
   ]
  },
  {
   "cell_type": "code",
   "execution_count": 111,
   "id": "2af56a8a-51a0-4ac5-9768-d18ffb2679d6",
   "metadata": {},
   "outputs": [
    {
     "data": {
      "text/plain": [
       "((7043, 21), (7032, 21))"
      ]
     },
     "execution_count": 111,
     "metadata": {},
     "output_type": "execute_result"
    }
   ],
   "source": [
    "df_cca = df[columnas_for_cca].dropna()\n",
    "df.shape, df_cca.shape"
   ]
  },
  {
   "cell_type": "code",
   "execution_count": 114,
   "id": "d80e9128-4ac4-4da6-ae19-5f2ffb2a3462",
   "metadata": {},
   "outputs": [
    {
     "data": {
      "image/png": "[encoded data removed]",
      "text/plain": [
       "<Figure size 500x300 with 1 Axes>"
      ]
     },
     "metadata": {},
     "output_type": "display_data"
    }
   ],
   "source": [
    "fig = plt.figure(figsize=(5, 3))\n",
    "ax = fig.add_subplot(111)\n",
    "\n",
    "df['TotalCharges'].hist(bins=50, ax=ax, density=True, color='red', alpha=0.3)\n",
    "df_cca['TotalCharges'].hist(bins=50, ax=ax, density=True, color='blue', alpha=0.3)\n",
    "plt.show()"
   ]
  },
  {
   "cell_type": "code",
   "execution_count": 117,
   "id": "e3754298-a6e1-48d8-a5e0-5378bae9e807",
   "metadata": {},
   "outputs": [
    {
     "data": {
      "image/png": "[encoded data removed]",
      "text/plain": [
       "<Figure size 500x300 with 1 Axes>"
      ]
     },
     "metadata": {},
     "output_type": "display_data"
    }
   ],
   "source": [
    "fig = plt.figure(figsize=(5, 3))\n",
    "ax = fig.add_subplot(111)\n",
    "\n",
    "df['TotalCharges'].plot.density(color='red')\n",
    "df_cca['TotalCharges'].plot.density(color='blue')\n",
    "plt.show()"
   ]
  },
  {
   "cell_type": "code",
   "execution_count": 121,
   "id": "598a2058-0558-474e-a8c2-eb0a363be81f",
   "metadata": {},
   "outputs": [
    {
     "data": {
      "image/png": "[encoded data removed]",
      "text/plain": [
       "<Figure size 640x480 with 1 Axes>"
      ]
     },
     "metadata": {},
     "output_type": "display_data"
    }
   ],
   "source": [
    "import seaborn as sns\n",
    "import matplotlib.pyplot as plt\n",
    "\n",
    "# Distribución de la variable 'Churn'\n",
    "sns.countplot(x='Churn', data=df)\n",
    "plt.title('Distribución de Churn')\n",
    "plt.show()"
   ]
  },
  {
   "cell_type": "markdown",
   "id": "751f88dd-7cef-48e0-9e1c-a0886e750e04",
   "metadata": {},
   "source": [
    "# 3. Selección de Variables\n",
    "Variable a predecir: 'Churn' (categórica)\n",
    "Variables predictoras: Todas las demás columnas"
   ]
  }
 ],
 "metadata": {
  "kernelspec": {
   "display_name": "Python 3 (ipykernel)",
   "language": "python",
   "name": "python3"
  },
  "language_info": {
   "codemirror_mode": {
    "name": "ipython",
    "version": 3
   },
   "file_extension": ".py",
   "mimetype": "text/x-python",
   "name": "python",
   "nbconvert_exporter": "python",
   "pygments_lexer": "ipython3",
   "version": "3.11.5"
  }
 },
 "nbformat": 4,
 "nbformat_minor": 5
}
