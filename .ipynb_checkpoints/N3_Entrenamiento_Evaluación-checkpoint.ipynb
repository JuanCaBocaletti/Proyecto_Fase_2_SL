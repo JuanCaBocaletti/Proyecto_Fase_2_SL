{
 "cells": [
  {
   "cell_type": "markdown",
   "id": "9940e4d6-2240-407b-84de-33bae4074064",
   "metadata": {},
   "source": [
    "# 5. Entrenamiento y Evaluación"
   ]
  },
  {
   "cell_type": "markdown",
   "id": "f0619760-8d56-4d96-9156-1f76757450c4",
   "metadata": {},
   "source": [
    "## De modelos de clasificación, pasos seguidos y configuración de hiper-parámetros."
   ]
  },
  {
   "cell_type": "code",
   "execution_count": null,
   "id": "f68d2d44-2762-4357-a326-e3cca663d6f9",
   "metadata": {},
   "outputs": [],
   "source": []
  }
 ],
 "metadata": {
  "kernelspec": {
   "display_name": "Python 3 (ipykernel)",
   "language": "python",
   "name": "python3"
  },
  "language_info": {
   "codemirror_mode": {
    "name": "ipython",
    "version": 3
   },
   "file_extension": ".py",
   "mimetype": "text/x-python",
   "name": "python",
   "nbconvert_exporter": "python",
   "pygments_lexer": "ipython3",
   "version": "3.11.5"
  }
 },
 "nbformat": 4,
 "nbformat_minor": 5
}
